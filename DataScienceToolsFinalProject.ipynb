{
 "cells": [
  {
   "cell_type": "markdown",
   "id": "f7770989",
   "metadata": {},
   "source": [
    "# Impact of Covid-19 on Economic Indicators in the Euro Zone"
   ]
  },
  {
   "cell_type": "markdown",
   "id": "b958c76c",
   "metadata": {},
   "source": [
    "Authors: Anoushka Jain, Tajaldeep Singh Ahluwalia"
   ]
  },
  {
   "cell_type": "markdown",
   "id": "80f538ad",
   "metadata": {},
   "source": [
    "## Abstract:"
   ]
  },
  {
   "cell_type": "markdown",
   "id": "d9d833bd",
   "metadata": {},
   "source": [
    "The objective of this report is to assess the impact of the Covid-19 pandemic on economic indicators in the countries of Germany, Greece, Spain, Italy and the Euro Zone. \n",
    "The indicators we will be selecting are: Inflation (CPI), Unemployment, GDP per capita, Foreign Direct Investment (FDI).\n",
    "We will be using the Covid-19 dataset provided by the World Health Organisation and Our World in Data. The variables we shall be focusing on in that will be New cases, New deaths, Human Development Index, Median Age.....\n",
    "We also aim to predict the economic indicators using Time series forecasting for the following year to see the possible impact of the pandemic.\n",
    "As part of our analysis we would also explore the trends in the data."
   ]
  },
  {
   "cell_type": "markdown",
   "id": "d5dbe5a3",
   "metadata": {},
   "source": [
    "## Introduction:"
   ]
  },
  {
   "cell_type": "markdown",
   "id": "27b47d3e",
   "metadata": {},
   "source": [
    "Inflation:\n",
    "“Inflation is when you pay fifteen dollars for ten dollar haircut you used to get for five dollars when you had hair .” – Sam Ewing.\n",
    "\n",
    "Inflation is the phenomenon of an increase in general price levels of goods and services. Consequently, the purchasing power of currency keeps falling. The reasons for inflation vary, ranging from excess money supply to national debt to exchange rates.\n",
    "\n",
    "There are various types of inflation depending upon the speed it takes. Mild inflation is beneficial for the economy, which leads to an increase in demand and consumption as consumers buy now to beat future prices. An extreme form of inflation is stag inflation, wherein slow economic growth is coupled with  relatively high unemployment and rising inflation. At the other end of the spectrum lies hyperinflation, which is inflation increasing manifold times in a very short span of time. It erodes the real value of currency and causes people to minimize their holdings in that currency and switch to a more stable foreign currency. \n",
    "\n",
    "Unemployment:\n",
    "The term unemployment refers to a situation when a person who is actively searching for employment is unable to find work. Unemployment is considered to be a key measure of the health of the economy. The most frequent measure of unemployment is the unemployment rate, which is the number of unemployed people divided by the number of people in the labor force.\n",
    "\n",
    "GDP Per Capita:\n",
    "Gross Domestic Product (GDP) Per capita is measures the economic output of a country per person and is a global measure to gauge the country's prosperity. It is calculated by dividing the GDP of a country by its population. GDP itself is the primary measure of a country's economic productivity. A country's GDP shows the market value of goods and services it produces.\n",
    "\n",
    "Foreign Direct Investment (FDI):\n",
    "Foreign direct investments (FDI) are substantial investments made by a company into a foreign concern. Generally, the term is used to describe a business decision to acquire a substantial stake in a foreign business or to buy it outright in order to expand its operations to a new region. It is not usually used to describe a stock investment in a foreign company. The investment may involve acquiring a source of materials, expanding a company's footprint, or developing a multinational presence. Thus it is a very important measure for economic prosperity in a country."
   ]
  },
  {
   "cell_type": "markdown",
   "id": "83c13369",
   "metadata": {},
   "source": [
    "The reason we chose the countries Germany, Greece, Spain, Italy is that they were some of the worst hit countries in the Eurpoean Union during the pandemic. We would also like to do a comparison to the Euro Zone and see if there impact was above or below the average. Through our analysis we would like to see the economic situation in regards to these indicators of these countries."
   ]
  },
  {
   "cell_type": "markdown",
   "id": "d7c30f71",
   "metadata": {},
   "source": [
    "## Literature Review"
   ]
  },
  {
   "cell_type": "code",
   "execution_count": 2,
   "id": "043f9124",
   "metadata": {},
   "outputs": [],
   "source": [
    "## Will add later"
   ]
  },
  {
   "cell_type": "markdown",
   "id": "fe038d41",
   "metadata": {},
   "source": [
    "## Data Acquisition"
   ]
  },
  {
   "cell_type": "markdown",
   "id": "6cb4b3b2",
   "metadata": {},
   "source": [
    "##Loading the packages"
   ]
  },
  {
   "cell_type": "code",
   "execution_count": 20,
   "id": "1083dd6d",
   "metadata": {},
   "outputs": [],
   "source": [
    "import pandas as pd\n",
    "import numpy as np\n",
    "import matplotlib.pyplot as plt\n",
    "import seaborn as sns\n",
    "from matplotlib.pyplot import figure\n",
    "import missingno, os\n",
    "from scipy.signal import savgol_filter"
   ]
  },
  {
   "cell_type": "markdown",
   "id": "cd313be7",
   "metadata": {},
   "source": [
    "## Loading the datasets"
   ]
  },
  {
   "cell_type": "code",
   "execution_count": 3,
   "id": "f2f20db2",
   "metadata": {},
   "outputs": [],
   "source": [
    "# Data Sources\n",
    "\n",
    "# WHO Global Covid Data\n",
    "\n",
    "who_global = pd.read_csv(\"https://covid19.who.int/WHO-COVID-19-global-data.csv\")\n",
    "who_global.to_csv(\"raw_data/who_global.csv\")\n",
    "\n",
    "# Consumer Price Index (All items) \n",
    "\n",
    "cpi_eur = pd.read_csv(\"https://fred.stlouisfed.org/graph/fredgraph.csv?bgcolor=%23e1e9f0&chart_type=line&drp=0&fo=open%20sans&graph_bgcolor=%23ffffff&height=450&mode=fred&recession_bars=off&txtcolor=%23444444&ts=12&tts=12&width=748&nt=0&thu=0&trc=0&show_legend=yes&show_axis_titles=yes&show_tooltip=yes&id=CP0000EZ19M086NEST&scale=left&cosd=2016-10-01&coed=2021-10-01&line_color=%234572a7&link_values=false&line_style=solid&mark_type=none&mw=3&lw=2&ost=-99999&oet=99999&mma=0&fml=a&fq=Monthly&fam=avg&fgst=lin&fgsnd=2020-02-01&line_index=1&transformation=lin&vintage_date=2021-11-25&revision_date=2021-11-25&nd=1996-01-01\")\n",
    "cpi_eur[\"Country\"] = 'EURO' \n",
    "cpi_eur.columns.values[1] = \"cpi\"\n",
    "cpi_eur.to_csv(\"raw_data/cpi_eur.csv\")\n",
    "\n",
    "cpi_de = pd.read_csv(\"https://fred.stlouisfed.org/graph/fredgraph.csv?bgcolor=%23e1e9f0&chart_type=line&drp=0&fo=open%20sans&graph_bgcolor=%23ffffff&height=450&mode=fred&recession_bars=off&txtcolor=%23444444&ts=12&tts=12&width=1168&nt=0&thu=0&trc=0&show_legend=yes&show_axis_titles=yes&show_tooltip=yes&id=DEUCPIALLMINMEI&scale=left&cosd=2016-09-01&coed=2021-09-01&line_color=%234572a7&link_values=false&line_style=solid&mark_type=none&mw=3&lw=2&ost=-99999&oet=99999&mma=0&fml=a&fq=Monthly&fam=avg&fgst=lin&fgsnd=2020-02-01&line_index=1&transformation=lin&vintage_date=2021-11-25&revision_date=2021-11-25&nd=1960-01-01\")\n",
    "cpi_de[\"Country\"] = 'Germany' \n",
    "cpi_de.columns.values[1] = \"cpi\"\n",
    "cpi_de.to_csv(\"raw_data/cpi_de.csv\")\n",
    "\n",
    "cpi_ita = pd.read_csv(\"https://fred.stlouisfed.org/graph/fredgraph.csv?bgcolor=%23e1e9f0&chart_type=line&drp=0&fo=open%20sans&graph_bgcolor=%23ffffff&height=450&mode=fred&recession_bars=off&txtcolor=%23444444&ts=12&tts=12&width=748&nt=0&thu=0&trc=0&show_legend=yes&show_axis_titles=yes&show_tooltip=yes&id=ITACPIALLMINMEI&scale=left&cosd=2016-09-01&coed=2021-09-01&line_color=%234572a7&link_values=false&line_style=solid&mark_type=none&mw=3&lw=2&ost=-99999&oet=99999&mma=0&fml=a&fq=Monthly&fam=avg&fgst=lin&fgsnd=2020-02-01&line_index=1&transformation=lin&vintage_date=2021-11-25&revision_date=2021-11-25&nd=1960-01-01\")\n",
    "cpi_ita[\"Country\"] = 'Italy' \n",
    "cpi_ita.columns.values[1] = \"cpi\"\n",
    "cpi_ita.to_csv(\"raw_data/cpi_ita.csv\")\n",
    "\n",
    "cpi_esp = pd.read_csv(\"https://fred.stlouisfed.org/graph/fredgraph.csv?bgcolor=%23e1e9f0&chart_type=line&drp=0&fo=open%20sans&graph_bgcolor=%23ffffff&height=450&mode=fred&recession_bars=off&txtcolor=%23444444&ts=12&tts=12&width=748&nt=0&thu=0&trc=0&show_legend=yes&show_axis_titles=yes&show_tooltip=yes&id=ESPCPIALLMINMEI&scale=left&cosd=2016-01-01&coed=2021-09-01&line_color=%234572a7&link_values=false&line_style=solid&mark_type=none&mw=3&lw=2&ost=-99999&oet=99999&mma=0&fml=a&fq=Monthly&fam=avg&fgst=lin&fgsnd=2020-02-01&line_index=1&transformation=lin&vintage_date=2021-11-25&revision_date=2021-11-25&nd=1960-01-01\")\n",
    "cpi_esp[\"Country\"] = 'Spain' \n",
    "cpi_esp.columns.values[1] = \"cpi\"\n",
    "cpi_esp.to_csv(\"raw_data/cpi_esp.csv\")\n",
    "\n",
    "cpi_grc = pd.read_csv(\"https://fred.stlouisfed.org/graph/fredgraph.csv?bgcolor=%23e1e9f0&chart_type=line&drp=0&fo=open%20sans&graph_bgcolor=%23ffffff&height=450&mode=fred&recession_bars=off&txtcolor=%23444444&ts=12&tts=12&width=748&nt=0&thu=0&trc=0&show_legend=yes&show_axis_titles=yes&show_tooltip=yes&id=GRCCPIALLMINMEI&scale=left&cosd=2016-01-01&coed=2021-09-01&line_color=%234572a7&link_values=false&line_style=solid&mark_type=none&mw=3&lw=2&ost=-99999&oet=99999&mma=0&fml=a&fq=Monthly&fam=avg&fgst=lin&fgsnd=2020-02-01&line_index=1&transformation=lin&vintage_date=2021-11-25&revision_date=2021-11-25&nd=1960-01-01\")\n",
    "cpi_grc[\"Country\"] = 'Greece' \n",
    "cpi_grc.columns.values[1] = \"cpi\"\n",
    "cpi_grc.to_csv(\"raw_data/cpi_grc.csv\")\n",
    "\n",
    "# Unemployment Rate (Harmonized, All persons)\n",
    "\n",
    "unemp_eur = pd.read_csv(\"https://fred.stlouisfed.org/graph/fredgraph.csv?bgcolor=%23e1e9f0&chart_type=line&drp=0&fo=open%20sans&graph_bgcolor=%23ffffff&height=450&mode=fred&recession_bars=off&txtcolor=%23444444&ts=12&tts=12&width=748&nt=0&thu=0&trc=0&show_legend=yes&show_axis_titles=yes&show_tooltip=yes&id=LRHUTTTTEZM156S&scale=left&cosd=2016-09-01&coed=2021-09-01&line_color=%234572a7&link_values=false&line_style=solid&mark_type=none&mw=3&lw=2&ost=-99999&oet=99999&mma=0&fml=a&fq=Monthly&fam=avg&fgst=lin&fgsnd=2020-02-01&line_index=1&transformation=lin&vintage_date=2021-11-25&revision_date=2021-11-25&nd=1990-07-01\")\n",
    "unemp_eur[\"Country\"] = 'EURO' \n",
    "unemp_eur.columns.values[1] = \"unemp\"\n",
    "unemp_eur.to_csv(\"raw_data/unemp_eur.csv\")\n",
    "\n",
    "unemp_de = pd.read_csv(\"https://fred.stlouisfed.org/graph/fredgraph.csv?bgcolor=%23e1e9f0&chart_type=line&drp=0&fo=open%20sans&graph_bgcolor=%23ffffff&height=450&mode=fred&recession_bars=off&txtcolor=%23444444&ts=12&tts=12&width=748&nt=0&thu=0&trc=0&show_legend=yes&show_axis_titles=yes&show_tooltip=yes&id=LRHUTTTTDEM156S&scale=left&cosd=2016-09-01&coed=2021-09-01&line_color=%234572a7&link_values=false&line_style=solid&mark_type=none&mw=3&lw=2&ost=-99999&oet=99999&mma=0&fml=a&fq=Monthly&fam=avg&fgst=lin&fgsnd=2020-02-01&line_index=1&transformation=lin&vintage_date=2021-11-25&revision_date=2021-11-25&nd=1991-01-01\")\n",
    "unemp_de[\"Country\"] = 'Germany' \n",
    "unemp_de.columns.values[1] = \"unemp\"\n",
    "unemp_de.to_csv(\"raw_data/unemp_de.csv\")\n",
    "\n",
    "umemp_ita = pd.read_csv(\"https://fred.stlouisfed.org/graph/fredgraph.csv?bgcolor=%23e1e9f0&chart_type=line&drp=0&fo=open%20sans&graph_bgcolor=%23ffffff&height=450&mode=fred&recession_bars=off&txtcolor=%23444444&ts=12&tts=12&width=748&nt=0&thu=0&trc=0&show_legend=yes&show_axis_titles=yes&show_tooltip=yes&id=LRHUTTTTITM156S&scale=left&cosd=2016-09-01&coed=2021-09-01&line_color=%234572a7&link_values=false&line_style=solid&mark_type=none&mw=3&lw=2&ost=-99999&oet=99999&mma=0&fml=a&fq=Monthly&fam=avg&fgst=lin&fgsnd=2020-02-01&line_index=1&transformation=lin&vintage_date=2021-11-25&revision_date=2021-11-25&nd=1983-01-01\")\n",
    "umemp_ita[\"Country\"] = 'Italy' \n",
    "umemp_ita.columns.values[1] = \"unemp\"\n",
    "umemp_ita.to_csv(\"raw_data/umemp_ita.csv\")\n",
    "\n",
    "unemp_esp = pd.read_csv(\"https://fred.stlouisfed.org/graph/fredgraph.csv?bgcolor=%23e1e9f0&chart_type=line&drp=0&fo=open%20sans&graph_bgcolor=%23ffffff&height=450&mode=fred&recession_bars=off&txtcolor=%23444444&ts=12&tts=12&width=748&nt=0&thu=0&trc=0&show_legend=yes&show_axis_titles=yes&show_tooltip=yes&id=LRHUTTTTESM156S&scale=left&cosd=2016-09-01&coed=2021-09-01&line_color=%234572a7&link_values=false&line_style=solid&mark_type=none&mw=3&lw=2&ost=-99999&oet=99999&mma=0&fml=a&fq=Monthly&fam=avg&fgst=lin&fgsnd=2020-02-01&line_index=1&transformation=lin&vintage_date=2021-11-25&revision_date=2021-11-25&nd=1986-04-01\")\n",
    "unemp_esp[\"Country\"] = 'Spain' \n",
    "unemp_esp.columns.values[1] = \"unemp\"\n",
    "unemp_esp.to_csv(\"raw_data/unemp_esp.csv\")\n",
    "\n",
    "unemp_grc = pd.read_csv(\"https://fred.stlouisfed.org/graph/fredgraph.csv?bgcolor=%23e1e9f0&chart_type=line&drp=0&fo=open%20sans&graph_bgcolor=%23ffffff&height=450&mode=fred&recession_bars=off&txtcolor=%23444444&ts=12&tts=12&width=748&nt=0&thu=0&trc=0&show_legend=yes&show_axis_titles=yes&show_tooltip=yes&id=LRHUTTTTGRM156S&scale=left&cosd=2016-09-01&coed=2021-09-01&line_color=%234572a7&link_values=false&line_style=solid&mark_type=none&mw=3&lw=2&ost=-99999&oet=99999&mma=0&fml=a&fq=Monthly&fam=avg&fgst=lin&fgsnd=2020-02-01&line_index=1&transformation=lin&vintage_date=2021-11-25&revision_date=2021-11-25&nd=1998-04-01\")\n",
    "unemp_grc[\"Country\"] = 'Greece' \n",
    "unemp_grc.columns.values[1] = \"unemp\"\n",
    "unemp_grc.to_csv(\"raw_data/unemp_grc.csv\")\n",
    "\n",
    "# Normalised GDP \n",
    "\n",
    "gdp_eur = pd.read_csv(\"https://fred.stlouisfed.org/graph/fredgraph.csv?bgcolor=%23e1e9f0&chart_type=line&drp=0&fo=open%20sans&graph_bgcolor=%23ffffff&height=450&mode=fred&recession_bars=off&txtcolor=%23444444&ts=12&tts=12&width=748&nt=0&thu=0&trc=0&show_legend=yes&show_axis_titles=yes&show_tooltip=yes&id=EA19LORSGPNOSTSAM&scale=left&cosd=2016-05-01&coed=2021-05-01&line_color=%234572a7&link_values=false&line_style=solid&mark_type=none&mw=3&lw=2&ost=-99999&oet=99999&mma=0&fml=a&fq=Monthly&fam=avg&fgst=lin&fgsnd=2020-02-01&line_index=1&transformation=lin&vintage_date=2021-11-25&revision_date=2021-11-25&nd=1960-03-01\")\n",
    "gdp_eur[\"Country\"] = 'EURO' \n",
    "gdp_eur.columns.values[1] = \"gdp\"\n",
    "gdp_eur.to_csv(\"raw_data/gdp_eur.csv\")\n",
    "\n",
    "gdp_de = pd.read_csv(\"https://fred.stlouisfed.org/graph/fredgraph.csv?bgcolor=%23e1e9f0&chart_type=line&drp=0&fo=open%20sans&graph_bgcolor=%23ffffff&height=450&mode=fred&recession_bars=off&txtcolor=%23444444&ts=12&tts=12&width=748&nt=0&thu=0&trc=0&show_legend=yes&show_axis_titles=yes&show_tooltip=yes&id=DEULORSGPNOSTSAM&scale=left&cosd=2016-08-01&coed=2021-08-01&line_color=%234572a7&link_values=false&line_style=solid&mark_type=none&mw=3&lw=2&ost=-99999&oet=99999&mma=0&fml=a&fq=Monthly&fam=avg&fgst=lin&fgsnd=2020-02-01&line_index=1&transformation=lin&vintage_date=2021-11-25&revision_date=2021-11-25&nd=1960-02-01\")\n",
    "gdp_de[\"Country\"] = 'Germany' \n",
    "gdp_de.columns.values[1] = \"gdp\"\n",
    "gdp_de.to_csv(\"raw_data/gdp_de.csv\")\n",
    "\n",
    "gdp_ita = pd.read_csv(\"https://fred.stlouisfed.org/graph/fredgraph.csv?bgcolor=%23e1e9f0&chart_type=line&drp=0&fo=open%20sans&graph_bgcolor=%23ffffff&height=450&mode=fred&recession_bars=off&txtcolor=%23444444&ts=12&tts=12&width=748&nt=0&thu=0&trc=0&show_legend=yes&show_axis_titles=yes&show_tooltip=yes&id=ITALORSGPNOSTSAM&scale=left&cosd=2016-08-01&coed=2021-08-01&line_color=%234572a7&link_values=false&line_style=solid&mark_type=none&mw=3&lw=2&ost=-99999&oet=99999&mma=0&fml=a&fq=Monthly&fam=avg&fgst=lin&fgsnd=2020-02-01&line_index=1&transformation=lin&vintage_date=2021-11-25&revision_date=2021-11-25&nd=1960-02-01\")\n",
    "gdp_ita[\"Country\"] = 'Italy' \n",
    "gdp_ita.columns.values[1] = \"gdp\"\n",
    "gdp_ita.to_csv(\"raw_data/gdp_ita.csv\")\n",
    "\n",
    "gdp_esp = pd.read_csv(\"https://fred.stlouisfed.org/graph/fredgraph.csv?bgcolor=%23e1e9f0&chart_type=line&drp=0&fo=open%20sans&graph_bgcolor=%23ffffff&height=450&mode=fred&recession_bars=off&txtcolor=%23444444&ts=12&tts=12&width=748&nt=0&thu=0&trc=0&show_legend=yes&show_axis_titles=yes&show_tooltip=yes&id=ESPLORSGPNOSTSAM&scale=left&cosd=2016-08-01&coed=2021-08-01&line_color=%234572a7&link_values=false&line_style=solid&mark_type=none&mw=3&lw=2&ost=-99999&oet=99999&mma=0&fml=a&fq=Monthly&fam=avg&fgst=lin&fgsnd=2020-02-01&line_index=1&transformation=lin&vintage_date=2021-11-25&revision_date=2021-11-25&nd=1960-02-01\")\n",
    "gdp_esp[\"Country\"] = 'Spain' \n",
    "gdp_esp.columns.values[1] = \"gdp\"\n",
    "gdp_esp.to_csv(\"raw_data/gdp_esp.csv\")\n",
    "\n",
    "gdp_grc = pd.read_csv(\"https://fred.stlouisfed.org/graph/fredgraph.csv?bgcolor=%23e1e9f0&chart_type=line&drp=0&fo=open%20sans&graph_bgcolor=%23ffffff&height=450&mode=fred&recession_bars=off&txtcolor=%23444444&ts=12&tts=12&width=748&nt=0&thu=0&trc=0&show_legend=yes&show_axis_titles=yes&show_tooltip=yes&id=GRCLORSGPNOSTSAM&scale=left&cosd=2016-05-01&coed=2021-05-01&line_color=%234572a7&link_values=false&line_style=solid&mark_type=none&mw=3&lw=2&ost=-99999&oet=99999&mma=0&fml=a&fq=Monthly&fam=avg&fgst=lin&fgsnd=2020-02-01&line_index=1&transformation=lin&vintage_date=2021-11-25&revision_date=2021-11-25&nd=1960-02-01\")\n",
    "gdp_grc[\"Country\"] = 'Greece' \n",
    "gdp_grc.columns.values[1] = \"gdp\"\n",
    "gdp_grc.to_csv(\"raw_data/gdp_grc.csv\")\n"
   ]
  },
  {
   "cell_type": "code",
   "execution_count": 4,
   "id": "6a02a2b1",
   "metadata": {},
   "outputs": [],
   "source": [
    "# combine the dataset for all countries based on feature\n",
    "\n",
    "unemp = pd.concat([unemp_eur, unemp_de, umemp_ita, unemp_esp, unemp_grc], axis=0)\n",
    "unemp.DATE = pd.to_datetime(unemp.DATE)\n",
    "\n",
    "gdp = pd.concat([gdp_eur, gdp_de, gdp_ita, gdp_esp, gdp_grc], axis=0)\n",
    "gdp.DATE = pd.to_datetime(gdp.DATE)\n",
    "\n",
    "cpi = pd.concat([cpi_eur, cpi_de, cpi_ita, cpi_esp, cpi_grc], axis=0)\n",
    "cpi.DATE = pd.to_datetime(cpi.DATE)"
   ]
  },
  {
   "cell_type": "code",
   "execution_count": 5,
   "id": "6eabd124",
   "metadata": {},
   "outputs": [],
   "source": [
    "who_clean = who_global.copy()\n",
    "\n",
    "who_clean['month'] = pd.to_datetime(who_clean['Date_reported']).dt.month\n",
    "who_clean['year'] = pd.to_datetime(who_clean['Date_reported']).dt.year\n",
    "\n",
    "who_clean['DATE'] = pd.to_datetime([f'{y}-{m}-1' for y, m in zip(who_clean.year, who_clean.month)])\n",
    "who_clean = who_clean[[\"DATE\",\"Country\",\"WHO_region\", \"New_cases\", \"New_deaths\"]]\n",
    "\n",
    "who_clean = who_clean.groupby([\"DATE\",\"Country\",\"WHO_region\"]).agg({\"New_cases\":\"sum\", \"New_deaths\":\"sum\"}).reset_index()\n",
    "who = who_clean[who_clean.Country.isin([\"Germany\", \"Italy\", \"Greece\", \"Spain\"])]\n",
    "\n",
    "\n",
    "euro = who_clean.groupby([\"DATE\",\"WHO_region\"]).agg({\"New_cases\":\"sum\", \"New_deaths\":\"sum\"}).reset_index()\n",
    "euro[\"Country\"] = \"EURO\"\n",
    "\n",
    "euro = euro[[\"DATE\", \"Country\", \"WHO_region\", \"New_cases\", \"New_deaths\"]]\n",
    "euro = euro[euro.WHO_region == \"EURO\"]\n",
    "euro\n",
    "\n",
    "covid = pd.concat([euro, who], axis=0)\n",
    "\n",
    "covid = covid[[\"DATE\", \"Country\", \"New_cases\", \"New_deaths\"]]"
   ]
  },
  {
   "cell_type": "code",
   "execution_count": 6,
   "id": "c794701e",
   "metadata": {},
   "outputs": [
    {
     "data": {
      "text/plain": [
       "<AxesSubplot:>"
      ]
     },
     "execution_count": 6,
     "metadata": {},
     "output_type": "execute_result"
    },
    {
     "data": {
      "image/png": "[encoded data removed]",
      "text/plain": [
       "<Figure size 1800x720 with 2 Axes>"
      ]
     },
     "metadata": {
      "needs_background": "light"
     },
     "output_type": "display_data"
    }
   ],
   "source": [
    "final_df = pd.merge(covid, unemp, how='outer', on=['DATE', 'Country'])\n",
    "final_df = pd.merge(final_df, gdp, how='outer', on=['DATE', 'Country'])\n",
    "final_df = pd.merge(final_df, cpi, how='outer', on=['DATE', 'Country'])\n",
    "\n",
    "final_df.sort_values(by = ['Country', 'DATE'], ascending = True, inplace=True)\n",
    "\n",
    "# replace null covid cases with 0\n",
    "final_df[\"New_cases\"].fillna(0, inplace=True)\n",
    "final_df[\"New_deaths\"].fillna(0, inplace=True)\n",
    "\n",
    "# filter the dates with a timeframe\n",
    "final_df = final_df[(final_df.DATE >= \"2017-01-01\") & (final_df.DATE <= \"2021-04-01\") ]\n",
    "\n",
    "# inspect the dataframe\n",
    "missingno.matrix(final_df)"
   ]
  },
  {
   "cell_type": "code",
   "execution_count": 22,
   "id": "be947a7e",
   "metadata": {},
   "outputs": [
    {
     "name": "stdout",
     "output_type": "stream",
     "text": [
      "Correlation Matrix\n",
      "            New_cases  New_deaths     unemp       gdp       cpi\n",
      "New_cases    1.000000    0.918071 -0.191146  0.050685  0.307377\n",
      "New_deaths   0.918071    1.000000 -0.220815 -0.073389  0.314140\n",
      "unemp       -0.191146   -0.220815  1.000000 -0.075148 -0.729321\n",
      "gdp          0.050685   -0.073389 -0.075148  1.000000 -0.145379\n",
      "cpi          0.307377    0.314140 -0.729321 -0.145379  1.000000\n"
     ]
    },
    {
     "data": {
      "image/png": "[encoded data removed]",
      "text/plain": [
       "<Figure size 432x288 with 2 Axes>"
      ]
     },
     "metadata": {
      "needs_background": "light"
     },
     "output_type": "display_data"
    }
   ],
   "source": [
    "# select continous vars for heatmap\n",
    "\n",
    "dt_clean_conti_vars = final_df.select_dtypes(include = ['float64', 'int64'])\n",
    "\n",
    "dt_clean_conti_vars = dt_clean_conti_vars[dt_clean_conti_vars.New_cases > 0]\n",
    "\n",
    "print(\"Correlation Matrix\")\n",
    "print(dt_clean_conti_vars.corr())\n",
    "\n",
    "dataplot = sns.heatmap(dt_clean_conti_vars.corr(), cmap=\"YlGnBu\", annot=True)\n",
    "plt.title(\"Correlation Heatmap of the dataframe\")\n",
    "plt.show()"
   ]
  },
  {
   "cell_type": "code",
   "execution_count": null,
   "id": "4152b2e7",
   "metadata": {},
   "outputs": [],
   "source": []
  },
  {
   "cell_type": "code",
   "execution_count": null,
   "id": "3c8c8f3d",
   "metadata": {},
   "outputs": [],
   "source": []
  },
  {
   "cell_type": "markdown",
   "id": "8f5088c4",
   "metadata": {},
   "source": [
    "## References:\n",
    "1. Organization for Economic Co-operation and Development, Leading Indicators OECD: Reference series: Gross Domestic Product (GDP): Normalised"
   ]
  },
  {
   "cell_type": "markdown",
   "id": "87813306",
   "metadata": {},
   "source": []
  }
 ],
 "metadata": {
  "interpreter": {
   "hash": "dc5bee46c37e799255e12327ef5c2899f43b773141a3f2d3ca9e59217e73387a"
  },
  "kernelspec": {
   "display_name": "Python 3.8.8 64-bit ('base': conda)",
   "name": "python3"
  },
  "language_info": {
   "codemirror_mode": {
    "name": "ipython",
    "version": 3
   },
   "file_extension": ".py",
   "mimetype": "text/x-python",
   "name": "python",
   "nbconvert_exporter": "python",
   "pygments_lexer": "ipython3",
   "version": "3.8.8"
  }
 },
 "nbformat": 4,
 "nbformat_minor": 5
}
